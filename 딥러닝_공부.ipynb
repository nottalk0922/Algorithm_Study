{
  "nbformat": 4,
  "nbformat_minor": 0,
  "metadata": {
    "colab": {
      "name": "딥러닝 공부.ipynb",
      "provenance": [],
      "collapsed_sections": [
        "fS1BkvgYx7kD",
        "8H0NtbR5lkWm",
        "OI35_YBZl7jt",
        "rnkORz8YmGBD",
        "nySY9EsYmM8W",
        "OknXlqD-mUce",
        "r6dLLgmRmc71",
        "fZhbIhE8oqGo",
        "vkCIstfBog4q",
        "ua-d7iasoww6",
        "-lIlDrt-pdUP",
        "Xoe6LlaArNmh",
        "xmMDuFgOrtDV",
        "v9VpuMvjGBYo",
        "WGsAbR9wKXaw",
        "6A7PyHVTLEZt",
        "huApUrtJL1yN",
        "ZusJrBf3MjMU",
        "_VHycj1OMvO8",
        "bOuPMHUEQCz4"
      ],
      "authorship_tag": "ABX9TyP5d9ODymoqMa/S+2dOTZAi",
      "include_colab_link": true
    },
    "kernelspec": {
      "name": "python3",
      "display_name": "Python 3"
    },
    "language_info": {
      "name": "python"
    },
    "accelerator": "GPU",
    "gpuClass": "standard"
  },
  "cells": [
    {
      "cell_type": "markdown",
      "metadata": {
        "id": "view-in-github",
        "colab_type": "text"
      },
      "source": [
        "<a href=\"https://colab.research.google.com/github/nottalk0922/Algorithm_Study/blob/main/%EB%94%A5%EB%9F%AC%EB%8B%9D_%EA%B3%B5%EB%B6%80.ipynb\" target=\"_parent\"><img src=\"https://colab.research.google.com/assets/colab-badge.svg\" alt=\"Open In Colab\"/></a>"
      ]
    },
    {
      "cell_type": "markdown",
      "source": [
        "# Drive Mount"
      ],
      "metadata": {
        "id": "fS1BkvgYx7kD"
      }
    },
    {
      "cell_type": "code",
      "execution_count": 2,
      "metadata": {
        "colab": {
          "base_uri": "https://localhost:8080/"
        },
        "id": "DnEujqf3gmqa",
        "outputId": "55bbd77b-1fe9-4cac-eea7-b84e9a589c04"
      },
      "outputs": [
        {
          "output_type": "stream",
          "name": "stdout",
          "text": [
            "Mounted at /content/drive\n"
          ]
        }
      ],
      "source": [
        "from google.colab import drive\n",
        "drive.mount('/content/drive')"
      ]
    },
    {
      "cell_type": "markdown",
      "source": [
        "# 딥러닝 입문 (tensorflow,keras)\n",
        "\n",
        "유튜브 링크 : https://www.youtube.com/watch?v=28QbrkRkHlo"
      ],
      "metadata": {
        "id": "y6Ma8RNDlRXU"
      }
    },
    {
      "cell_type": "code",
      "source": [
        "import numpy as np\n",
        "import tensorflow as tf"
      ],
      "metadata": {
        "id": "v6UVcPpFhHj-"
      },
      "execution_count": 3,
      "outputs": []
    },
    {
      "cell_type": "markdown",
      "source": [
        "## Tensor(Scalar) \n",
        "- 하나의 숫자를 담고 있는 텐서(tensor)\n",
        "- 축과 형상이 없음"
      ],
      "metadata": {
        "id": "8H0NtbR5lkWm"
      }
    },
    {
      "cell_type": "code",
      "source": [
        "t0 = tf.constant(1)\n",
        "print(t0)\n",
        "print(tf.rank(t0))"
      ],
      "metadata": {
        "colab": {
          "base_uri": "https://localhost:8080/"
        },
        "id": "M24v1EPvhQgF",
        "outputId": "a7d5a184-cf06-4bcc-95b6-ae90bdde35a9"
      },
      "execution_count": 4,
      "outputs": [
        {
          "output_type": "stream",
          "name": "stdout",
          "text": [
            "tf.Tensor(1, shape=(), dtype=int32)\n",
            "tf.Tensor(0, shape=(), dtype=int32)\n"
          ]
        }
      ]
    },
    {
      "cell_type": "markdown",
      "source": [
        "## Tensor(Vector)\n",
        " - 값들을 저장한 리스트와 유사한 텐서\n",
        " - 하나의 축이 존재"
      ],
      "metadata": {
        "id": "OI35_YBZl7jt"
      }
    },
    {
      "cell_type": "code",
      "source": [
        "t1 = tf.constant([1,2,3])\n",
        "print(t1)\n",
        "print(tf.rank(t1))\n"
      ],
      "metadata": {
        "colab": {
          "base_uri": "https://localhost:8080/"
        },
        "id": "-3y5VdQMhQeI",
        "outputId": "14825a07-b0d8-4562-e696-728c8bddc085"
      },
      "execution_count": 5,
      "outputs": [
        {
          "output_type": "stream",
          "name": "stdout",
          "text": [
            "tf.Tensor([1 2 3], shape=(3,), dtype=int32)\n",
            "tf.Tensor(1, shape=(), dtype=int32)\n"
          ]
        }
      ]
    },
    {
      "cell_type": "markdown",
      "source": [
        "## Tensor(Matrix)\n",
        " - 행렬과 같은 모야응로 두개의 축이 존재\n",
        " - 일반적인 수치, 통계 데이터셋이 해당\n",
        " - 주로 샘플(samples)과 특성(features)을 가진 구조로 사용\n"
      ],
      "metadata": {
        "id": "rnkORz8YmGBD"
      }
    },
    {
      "cell_type": "code",
      "source": [
        "t2 = tf.constant([[1,2,3],[4,5,6],[7,8,9]])\n",
        "print(t2)\n",
        "print(tf.rank(t2))\n",
        "                                   "
      ],
      "metadata": {
        "colab": {
          "base_uri": "https://localhost:8080/"
        },
        "id": "1bu725V6ilks",
        "outputId": "ea06b136-ad6b-43e9-e26d-d373c3ed463b"
      },
      "execution_count": 6,
      "outputs": [
        {
          "output_type": "stream",
          "name": "stdout",
          "text": [
            "tf.Tensor(\n",
            "[[1 2 3]\n",
            " [4 5 6]\n",
            " [7 8 9]], shape=(3, 3), dtype=int32)\n",
            "tf.Tensor(2, shape=(), dtype=int32)\n"
          ]
        }
      ]
    },
    {
      "cell_type": "markdown",
      "source": [
        "## 3D Tensor \n",
        " - 큐브와 같은 모양으로 세개의 축이 존재\n",
        " - 데이터가 연속된 시퀀스 데이터나 시간 축이 포함된 시계열 데이터에 해당\n",
        " - 주로 샘플(samples), 타임스텝(timesteps), 특성(features)을 가진 구조로 사용\n"
      ],
      "metadata": {
        "id": "nySY9EsYmM8W"
      }
    },
    {
      "cell_type": "code",
      "source": [
        "t3 = tf.constant([[[1,2,3],[4,5,6],[7,8,9]],[[1,2,3],[4,5,6],[7,8,9]],[[1,2,3],[4,5,6],[7,8,9]]])\n",
        "print(t3)\n",
        "print(tf.rank(t3))"
      ],
      "metadata": {
        "colab": {
          "base_uri": "https://localhost:8080/"
        },
        "id": "yiZm4WaHjW9U",
        "outputId": "6a1caa0b-edc8-4397-b06a-163bd2518b06"
      },
      "execution_count": 7,
      "outputs": [
        {
          "output_type": "stream",
          "name": "stdout",
          "text": [
            "tf.Tensor(\n",
            "[[[1 2 3]\n",
            "  [4 5 6]\n",
            "  [7 8 9]]\n",
            "\n",
            " [[1 2 3]\n",
            "  [4 5 6]\n",
            "  [7 8 9]]\n",
            "\n",
            " [[1 2 3]\n",
            "  [4 5 6]\n",
            "  [7 8 9]]], shape=(3, 3, 3), dtype=int32)\n",
            "tf.Tensor(3, shape=(), dtype=int32)\n"
          ]
        }
      ]
    },
    {
      "cell_type": "markdown",
      "source": [
        "## 4D Tensor\n",
        " - 4개의 축\n",
        " - 컬러 이미지 데이터가 대표적인 사례 \n",
        " - 주로 샘플(samples), 높이(height), 너비(width), 컬러채널(channel)을 가진 구조로 사용\n",
        "\n"
      ],
      "metadata": {
        "id": "OknXlqD-mUce"
      }
    },
    {
      "cell_type": "code",
      "source": [
        ""
      ],
      "metadata": {
        "id": "82ndgOqqkQy0"
      },
      "execution_count": 7,
      "outputs": []
    },
    {
      "cell_type": "markdown",
      "source": [
        "## 텐서 데이터 타입 \n",
        " - 텐서의 기본 dtype\n",
        "    - 정수형 텐서: int32\n",
        "    - 실수형 텐서: float32\n",
        "    - 문자열 텐서: string\n",
        " - int32, float32, string 타입 외에도 float16, int8 타입 등이 존재 \n",
        " - 연산시 텐서의 타입 일치 필요\n",
        " - 타입변환에는 tf.cast() 사용\n",
        " "
      ],
      "metadata": {
        "id": "r6dLLgmRmc71"
      }
    },
    {
      "cell_type": "code",
      "source": [
        "i = tf.constant(2)\n",
        "print(i)"
      ],
      "metadata": {
        "colab": {
          "base_uri": "https://localhost:8080/"
        },
        "id": "9BbHJIw0nJZK",
        "outputId": "0811e166-2ddc-4afa-f9d1-6ee15adcc01f"
      },
      "execution_count": 8,
      "outputs": [
        {
          "output_type": "stream",
          "name": "stdout",
          "text": [
            "tf.Tensor(2, shape=(), dtype=int32)\n"
          ]
        }
      ]
    },
    {
      "cell_type": "code",
      "source": [
        "f = tf.constant(2.)\n",
        "print(f)"
      ],
      "metadata": {
        "colab": {
          "base_uri": "https://localhost:8080/"
        },
        "id": "7APpnGZunLQd",
        "outputId": "b6cf333d-7b99-4810-c2ca-40f3b8cb4a5d"
      },
      "execution_count": 9,
      "outputs": [
        {
          "output_type": "stream",
          "name": "stdout",
          "text": [
            "tf.Tensor(2.0, shape=(), dtype=float32)\n"
          ]
        }
      ]
    },
    {
      "cell_type": "code",
      "source": [
        "s = tf.constant('String')\n",
        "print(s)"
      ],
      "metadata": {
        "colab": {
          "base_uri": "https://localhost:8080/"
        },
        "id": "5sCaNoexnLKn",
        "outputId": "290b8dcb-43ec-47d5-b67b-cceca615c658"
      },
      "execution_count": 10,
      "outputs": [
        {
          "output_type": "stream",
          "name": "stdout",
          "text": [
            "tf.Tensor(b'String', shape=(), dtype=string)\n"
          ]
        }
      ]
    },
    {
      "cell_type": "markdown",
      "source": [
        "### 데이터 타입을 직접 지정해 줄 수 있다. "
      ],
      "metadata": {
        "id": "fZhbIhE8oqGo"
      }
    },
    {
      "cell_type": "code",
      "source": [
        "f16 = tf.constant(2.,dtype=tf.float16)\n",
        "print(f16)"
      ],
      "metadata": {
        "colab": {
          "base_uri": "https://localhost:8080/"
        },
        "id": "pd_mlkoGnLIN",
        "outputId": "b75109a3-97f0-4aa6-8540-f101d05d74b2"
      },
      "execution_count": 11,
      "outputs": [
        {
          "output_type": "stream",
          "name": "stdout",
          "text": [
            "tf.Tensor(2.0, shape=(), dtype=float16)\n"
          ]
        }
      ]
    },
    {
      "cell_type": "code",
      "source": [
        "i8 = tf.constant(2,dtype=tf.int8)\n",
        "print(i8)"
      ],
      "metadata": {
        "colab": {
          "base_uri": "https://localhost:8080/"
        },
        "id": "FLcP-xXRnyMT",
        "outputId": "e1f297ae-06b0-4897-d346-d00ff30e11ff"
      },
      "execution_count": 12,
      "outputs": [
        {
          "output_type": "stream",
          "name": "stdout",
          "text": [
            "tf.Tensor(2, shape=(), dtype=int8)\n"
          ]
        }
      ]
    },
    {
      "cell_type": "markdown",
      "source": [
        "### tf.cast() 함수를 사용하여 dtype을 바꿀 수 있다. "
      ],
      "metadata": {
        "id": "vkCIstfBog4q"
      }
    },
    {
      "cell_type": "code",
      "source": [
        "f32 = tf.cast(f16,tf.float32)\n",
        "print(f32)"
      ],
      "metadata": {
        "colab": {
          "base_uri": "https://localhost:8080/"
        },
        "id": "U3MfUAdJn_5P",
        "outputId": "0bd0f156-47a7-45a9-86ad-58fb1c3b8c2c"
      },
      "execution_count": 13,
      "outputs": [
        {
          "output_type": "stream",
          "name": "stdout",
          "text": [
            "tf.Tensor(2.0, shape=(), dtype=float32)\n"
          ]
        }
      ]
    },
    {
      "cell_type": "code",
      "source": [
        "i16 = tf.cast(i8,tf.int16)\n",
        "print(i16)"
      ],
      "metadata": {
        "colab": {
          "base_uri": "https://localhost:8080/"
        },
        "id": "in4yKuVhoT_9",
        "outputId": "9de294a0-eaf2-42b4-da74-b01c04604756"
      },
      "execution_count": 14,
      "outputs": [
        {
          "output_type": "stream",
          "name": "stdout",
          "text": [
            "tf.Tensor(2, shape=(), dtype=int16)\n"
          ]
        }
      ]
    },
    {
      "cell_type": "markdown",
      "source": [
        "## 텐서 연산"
      ],
      "metadata": {
        "id": "ua-d7iasoww6"
      }
    },
    {
      "cell_type": "markdown",
      "source": [
        "### add(),subtract(),multiply(),divide()를 사용해서 텐서 끼리 더하기, 빼기, 곱하기, 나누기를 할 수 있다. "
      ],
      "metadata": {
        "id": "-lIlDrt-pdUP"
      }
    },
    {
      "cell_type": "code",
      "source": [
        "print(tf.constant(2) + tf.constant(3))\n",
        "print(tf.constant(2) - tf.constant(1))\n",
        "\n",
        "print(tf.add(tf.constant(2),tf.constant(3)))\n",
        "print(tf.subtract(tf.constant(2),tf.constant(1)))\n",
        "\n",
        "print(tf.constant(2) * tf.constant(3))\n",
        "print(tf.constant(2) / tf.constant(1))\n",
        "\n",
        "print(tf.multiply(tf.constant(2),tf.constant(3)))\n",
        "print(tf.divide(tf.constant(2),tf.constant(1)))"
      ],
      "metadata": {
        "colab": {
          "base_uri": "https://localhost:8080/"
        },
        "id": "16ozoNEzozZn",
        "outputId": "d5a3d7a7-deca-457d-8d52-ebe19d7f60b6"
      },
      "execution_count": 15,
      "outputs": [
        {
          "output_type": "stream",
          "name": "stdout",
          "text": [
            "tf.Tensor(5, shape=(), dtype=int32)\n",
            "tf.Tensor(1, shape=(), dtype=int32)\n",
            "tf.Tensor(5, shape=(), dtype=int32)\n",
            "tf.Tensor(1, shape=(), dtype=int32)\n",
            "tf.Tensor(6, shape=(), dtype=int32)\n",
            "tf.Tensor(2.0, shape=(), dtype=float64)\n",
            "tf.Tensor(6, shape=(), dtype=int32)\n",
            "tf.Tensor(2.0, shape=(), dtype=float64)\n"
          ]
        }
      ]
    },
    {
      "cell_type": "code",
      "source": [
        "# print(tf.add(tf.constant(2),tf.constant(3.))) <-- dtype이 다르면 연산을 할 수 없다. \n",
        "\n",
        "print(tf.cast(tf.constant(2), tf.float32) + tf.constant(2.2)) # cast()를 사용하여 dtype을 바꾼 후 연산한다."
      ],
      "metadata": {
        "colab": {
          "base_uri": "https://localhost:8080/"
        },
        "id": "y1VyRv2qqNxk",
        "outputId": "46804b4b-5e1c-4d88-fa1b-ac5827a153da"
      },
      "execution_count": 16,
      "outputs": [
        {
          "output_type": "stream",
          "name": "stdout",
          "text": [
            "tf.Tensor(4.2, shape=(), dtype=float32)\n"
          ]
        }
      ]
    },
    {
      "cell_type": "markdown",
      "source": [
        "## 딥러닝 구조 및 학습\n",
        "- 딥러닝 구조와 학습에 필요한 요소\n",
        " - 모델(네트워크)를 구성하는 레이어(layer)\n",
        " - 입력 데이터와 그에 대한 목적(결과)\n",
        " - 학습시에 사용할 피드백을 정의하는 손실 함수(loss function)\n",
        " - 학습 진행 방식을 결정하는 옵티마이저(optimizier)"
      ],
      "metadata": {
        "id": "Xoe6LlaArNmh"
      }
    },
    {
      "cell_type": "markdown",
      "source": [
        "## 레이어(Layer)\n",
        "\n",
        "- 신경망의 핵심 데이터 구조\n",
        "- 하나 이상의 텐서를 입력받아 하나 이상의 텐서를 출력하는 데이터 처리 모듈\n",
        "- 상태가 없는 레이어도 있지만, 대부분 가중치(weight)라는 레이어 상태를 가짐\n",
        "- 가중치는 확률적 경사 하강법에 의해 학습되는 하나 이상의 텐서\n",
        "\n",
        "\n",
        "\n",
        "- Keras에서 사용되는 주요 레이어\n",
        " - Dense\n",
        " - Activation\n",
        " - Flatten\n",
        " - Input"
      ],
      "metadata": {
        "id": "xmMDuFgOrtDV"
      }
    },
    {
      "cell_type": "code",
      "source": [
        "from tensorflow.keras.layers import Dense, Activation, Flatten, Input"
      ],
      "metadata": {
        "id": "QRD0RcGjrL95"
      },
      "execution_count": 17,
      "outputs": []
    },
    {
      "cell_type": "markdown",
      "source": [
        "### Dense\n",
        ": 추출된 정보들을 하나의 레이어로 모으고 우리가 원하는 차원으로 축소시켜서 표현하기 위한 레이어이다. \n",
        "\n",
        "- 완전연결계층(Fully-Connected Layer)\n",
        "- 노드수(유닛수),활성화 함수(activation) 등을 지정\n",
        "- name을 통한 레이어간 구분 가능\n",
        "- 가중치 초기화(kernel_initializer)\n",
        "  - 신경망의 성능에 큰 영향을 주는 요소\n",
        "  - 보통 가중치의 초기값으로 0에 가까운 무작위 값 사용\n",
        "  - Keras에서는 기본적으로 Glorot uniform 가중치 (Xavier 분포 초기화), zeros bias로 초기화 \n",
        "  "
      ],
      "metadata": {
        "id": "v9VpuMvjGBYo"
      }
    },
    {
      "cell_type": "code",
      "source": [
        "Dense(10, activation='softmax')"
      ],
      "metadata": {
        "colab": {
          "base_uri": "https://localhost:8080/"
        },
        "id": "ISbieldmtHI9",
        "outputId": "45a547fe-68d2-4ed8-9207-94eaeb3a65de"
      },
      "execution_count": 18,
      "outputs": [
        {
          "output_type": "execute_result",
          "data": {
            "text/plain": [
              "<keras.layers.core.dense.Dense at 0x7f2e205ac4d0>"
            ]
          },
          "metadata": {},
          "execution_count": 18
        }
      ]
    },
    {
      "cell_type": "code",
      "source": [
        "Dense(10, activation='relu', name='Dense Layer')"
      ],
      "metadata": {
        "colab": {
          "base_uri": "https://localhost:8080/"
        },
        "id": "Hb3qOCxstHHc",
        "outputId": "4e50dcf3-95c7-4477-e044-18e4e2663285"
      },
      "execution_count": 19,
      "outputs": [
        {
          "output_type": "execute_result",
          "data": {
            "text/plain": [
              "<keras.layers.core.dense.Dense at 0x7f2e2054f550>"
            ]
          },
          "metadata": {},
          "execution_count": 19
        }
      ]
    },
    {
      "cell_type": "code",
      "source": [
        "Dense(10, kernel_initializer='he_normal', name='Demse Layer')"
      ],
      "metadata": {
        "colab": {
          "base_uri": "https://localhost:8080/"
        },
        "id": "kYP1ScC_tHFU",
        "outputId": "bc212f12-e257-4f89-c6a4-1522b5604137"
      },
      "execution_count": 20,
      "outputs": [
        {
          "output_type": "execute_result",
          "data": {
            "text/plain": [
              "<keras.layers.core.dense.Dense at 0x7f2e32565390>"
            ]
          },
          "metadata": {},
          "execution_count": 20
        }
      ]
    },
    {
      "cell_type": "markdown",
      "source": [
        "### Activation \n",
        "- Dense Layer에서 미리 할성화 함수를 지정할 수도 있지만 필요에 따라 별도 레이어를 만들어 줄 수 있다. "
      ],
      "metadata": {
        "id": "WGsAbR9wKXaw"
      }
    },
    {
      "cell_type": "code",
      "source": [
        "dense = Dense(10, activation='relu', name='Dense Layer')"
      ],
      "metadata": {
        "id": "NbB3sdUbycOd"
      },
      "execution_count": 21,
      "outputs": []
    },
    {
      "cell_type": "markdown",
      "source": [
        "### Flatten \n",
        "- 배치 크기(또는 데이터 크기)를 제외하고 데이터를 1차원으로 쭉 펼치는 작업\n",
        "- ex( (128,3,2,2,) -> (128,12) )"
      ],
      "metadata": {
        "id": "6A7PyHVTLEZt"
      }
    },
    {
      "cell_type": "code",
      "source": [
        "Flatten(input_shape=(128,3,2,2))"
      ],
      "metadata": {
        "colab": {
          "base_uri": "https://localhost:8080/"
        },
        "id": "CMS4RrSjLOf1",
        "outputId": "46838cbe-5817-4adf-c35a-7d124c424080"
      },
      "execution_count": 22,
      "outputs": [
        {
          "output_type": "execute_result",
          "data": {
            "text/plain": [
              "<keras.layers.core.flatten.Flatten at 0x7f2e204e5190>"
            ]
          },
          "metadata": {},
          "execution_count": 22
        }
      ]
    },
    {
      "cell_type": "markdown",
      "source": [
        "### Input\n",
        "- 모델의 입력을 정의\n",
        "- shape, dtype을 포함 \n",
        "- 하나의 모델은 여러개의 입력을 가질 수 있음\n",
        "- summary() 매소드를 통해서는 보이지 않음"
      ],
      "metadata": {
        "id": "huApUrtJL1yN"
      }
    },
    {
      "cell_type": "code",
      "source": [
        "Input(shape=(28,28), dtype=tf.float32)"
      ],
      "metadata": {
        "colab": {
          "base_uri": "https://localhost:8080/"
        },
        "id": "3IpwsnzWMQzD",
        "outputId": "c4b52730-0fea-4a9b-e136-0769c958d666"
      },
      "execution_count": 23,
      "outputs": [
        {
          "output_type": "execute_result",
          "data": {
            "text/plain": [
              "<KerasTensor: shape=(None, 28, 28) dtype=float32 (created by layer 'input_1')>"
            ]
          },
          "metadata": {},
          "execution_count": 23
        }
      ]
    },
    {
      "cell_type": "code",
      "source": [
        "Input(shape=(8,), dtype=tf.int16)"
      ],
      "metadata": {
        "colab": {
          "base_uri": "https://localhost:8080/"
        },
        "id": "RsAO5e3UMQ2o",
        "outputId": "92822a88-21d5-4f65-92f0-c924917b9198"
      },
      "execution_count": 24,
      "outputs": [
        {
          "output_type": "execute_result",
          "data": {
            "text/plain": [
              "<KerasTensor: shape=(None, 8) dtype=int16 (created by layer 'input_2')>"
            ]
          },
          "metadata": {},
          "execution_count": 24
        }
      ]
    },
    {
      "cell_type": "markdown",
      "source": [
        "## 모델 (Model)\n",
        "- 딥러닝 모델은 레이어로 만들어진 비순환 유향 그래프 구조"
      ],
      "metadata": {
        "id": "ZusJrBf3MjMU"
      }
    },
    {
      "cell_type": "markdown",
      "source": [
        "### 모델 구성\n",
        "- Sequential()\n",
        "- 서브클래싱(subclassing)\n",
        "- 함수형 API\n",
        "\n"
      ],
      "metadata": {
        "id": "_VHycj1OMvO8"
      }
    },
    {
      "cell_type": "code",
      "source": [
        "from tensorflow.keras.layers import Dense, Input, Flatten\n",
        "from tensorflow.keras.models import Sequential, Model\n",
        "from tensorflow.keras.utils import plot_model"
      ],
      "metadata": {
        "id": "xOyezFiCNQos"
      },
      "execution_count": 25,
      "outputs": []
    },
    {
      "cell_type": "code",
      "source": [
        "\n",
        "model = Sequential()\n",
        "model.add(Input(shape=(28, 28)))\n",
        "model.add(Dense(300, activation='relu'))\n",
        "model.add(Dense(100,activation='relu'))\n",
        "model.add(Dense(10,activation='softmax'))\n",
        "model.summary()"
      ],
      "metadata": {
        "colab": {
          "base_uri": "https://localhost:8080/"
        },
        "id": "05aedpKWOC0p",
        "outputId": "27a7dacf-4885-497c-92c5-9cc22b17ddee"
      },
      "execution_count": 26,
      "outputs": [
        {
          "output_type": "stream",
          "name": "stdout",
          "text": [
            "Model: \"sequential\"\n",
            "_________________________________________________________________\n",
            " Layer (type)                Output Shape              Param #   \n",
            "=================================================================\n",
            " dense_1 (Dense)             (None, 28, 300)           8700      \n",
            "                                                                 \n",
            " dense_2 (Dense)             (None, 28, 100)           30100     \n",
            "                                                                 \n",
            " dense_3 (Dense)             (None, 28, 10)            1010      \n",
            "                                                                 \n",
            "=================================================================\n",
            "Total params: 39,810\n",
            "Trainable params: 39,810\n",
            "Non-trainable params: 0\n",
            "_________________________________________________________________\n"
          ]
        }
      ]
    },
    {
      "cell_type": "code",
      "source": [
        "plot_model(model)"
      ],
      "metadata": {
        "colab": {
          "base_uri": "https://localhost:8080/",
          "height": 0
        },
        "id": "BfEpzkSSu8DS",
        "outputId": "0dd74a70-fa26-4c61-ae22-4d742b7e5f51"
      },
      "execution_count": 27,
      "outputs": [
        {
          "output_type": "execute_result",
          "data": {
            "image/png": "[encoded data removed]",
            "text/plain": [
              "<IPython.core.display.Image object>"
            ]
          },
          "metadata": {},
          "execution_count": 27
        }
      ]
    },
    {
      "cell_type": "code",
      "source": [
        "model = Sequential([Input(shape=(28,28), name='Input'),\n",
        "                    Dense(300, activation='relu', name='Dense1'),\n",
        "                    Dense(100, activation='relu', name='Dense2'),\n",
        "                    Dense(10, activation='softmax', name='Output')])\n",
        "\n",
        "model.summary()\n"
      ],
      "metadata": {
        "colab": {
          "base_uri": "https://localhost:8080/"
        },
        "id": "-wb8ZWA1OCwN",
        "outputId": "4c9b24b8-7760-4a13-ad72-f012cc85a99f"
      },
      "execution_count": 28,
      "outputs": [
        {
          "output_type": "stream",
          "name": "stdout",
          "text": [
            "Model: \"sequential_1\"\n",
            "_________________________________________________________________\n",
            " Layer (type)                Output Shape              Param #   \n",
            "=================================================================\n",
            " Dense1 (Dense)              (None, 28, 300)           8700      \n",
            "                                                                 \n",
            " Dense2 (Dense)              (None, 28, 100)           30100     \n",
            "                                                                 \n",
            " Output (Dense)              (None, 28, 10)            1010      \n",
            "                                                                 \n",
            "=================================================================\n",
            "Total params: 39,810\n",
            "Trainable params: 39,810\n",
            "Non-trainable params: 0\n",
            "_________________________________________________________________\n"
          ]
        }
      ]
    },
    {
      "cell_type": "code",
      "source": [
        "plot_model(model)"
      ],
      "metadata": {
        "colab": {
          "base_uri": "https://localhost:8080/",
          "height": 0
        },
        "id": "jmNdo74cvXot",
        "outputId": "96299901-a188-4e60-ecf6-7a8a699e98f7"
      },
      "execution_count": 29,
      "outputs": [
        {
          "output_type": "execute_result",
          "data": {
            "image/png": "[encoded data removed]",
            "text/plain": [
              "<IPython.core.display.Image object>"
            ]
          },
          "metadata": {},
          "execution_count": 29
        }
      ]
    },
    {
      "cell_type": "markdown",
      "source": [
        "### 함수형 API\n",
        "- 가장 권장되는 방법\n",
        "- 모델을 복잡하고, 유연하게 구성 가능\n",
        "- 다중 이출력을 다룰 수 있음"
      ],
      "metadata": {
        "id": "bOuPMHUEQCz4"
      }
    },
    {
      "cell_type": "code",
      "source": [
        "inputs = Input(shape=(28, 28, 1))\n",
        "x = Flatten(input_shape=(28, 28, 1))(inputs)\n",
        "x = Dense(300, activation='relu')(x)\n",
        "x = Dense(100, activation='relu')(x)\n",
        "x = Dense(10, activation='softmax')(x)\n",
        "\n",
        "model = Model(inputs=inputs, outputs=x)\n",
        "model.summary()"
      ],
      "metadata": {
        "id": "Mu6lEchOQF_4",
        "colab": {
          "base_uri": "https://localhost:8080/"
        },
        "outputId": "d9d0d475-3d77-47fe-d5e1-0407d7f7c3f9"
      },
      "execution_count": 30,
      "outputs": [
        {
          "output_type": "stream",
          "name": "stdout",
          "text": [
            "Model: \"model\"\n",
            "_________________________________________________________________\n",
            " Layer (type)                Output Shape              Param #   \n",
            "=================================================================\n",
            " input_4 (InputLayer)        [(None, 28, 28, 1)]       0         \n",
            "                                                                 \n",
            " flatten_1 (Flatten)         (None, 784)               0         \n",
            "                                                                 \n",
            " dense_4 (Dense)             (None, 300)               235500    \n",
            "                                                                 \n",
            " dense_5 (Dense)             (None, 100)               30100     \n",
            "                                                                 \n",
            " dense_6 (Dense)             (None, 10)                1010      \n",
            "                                                                 \n",
            "=================================================================\n",
            "Total params: 266,610\n",
            "Trainable params: 266,610\n",
            "Non-trainable params: 0\n",
            "_________________________________________________________________\n"
          ]
        }
      ]
    },
    {
      "cell_type": "code",
      "source": [
        "plot_model(model)"
      ],
      "metadata": {
        "colab": {
          "base_uri": "https://localhost:8080/",
          "height": 0
        },
        "id": "WblRkmEt4W-n",
        "outputId": "ab28d8a1-1a53-463e-b5af-a6e57b71592f"
      },
      "execution_count": 31,
      "outputs": [
        {
          "output_type": "execute_result",
          "data": {
            "image/png": "[encoded data removed]",
            "text/plain": [
              "<IPython.core.display.Image object>"
            ]
          },
          "metadata": {},
          "execution_count": 31
        }
      ]
    },
    {
      "cell_type": "code",
      "source": [
        "from tensorflow.keras.layers import Concatenate\n",
        "input_layer = Input(shape=(28,28))\n",
        "hidden1 = Dense(100, activation='relu')(input_layer)\n",
        "hidden2 = Dense(30, activation='relu')(hidden1)\n",
        "concat = Concatenate()([input_layer, hidden2])\n",
        "output = Dense(1)(concat)\n",
        "\n",
        "model = Model(inputs=[input_layer], outputs=[output])\n",
        "model.summary()"
      ],
      "metadata": {
        "colab": {
          "base_uri": "https://localhost:8080/"
        },
        "id": "5cxNG_9P4ggH",
        "outputId": "d8c3502a-a19e-414b-9f1e-1bca3ef77d49"
      },
      "execution_count": 32,
      "outputs": [
        {
          "output_type": "stream",
          "name": "stdout",
          "text": [
            "Model: \"model_1\"\n",
            "__________________________________________________________________________________________________\n",
            " Layer (type)                   Output Shape         Param #     Connected to                     \n",
            "==================================================================================================\n",
            " input_5 (InputLayer)           [(None, 28, 28)]     0           []                               \n",
            "                                                                                                  \n",
            " dense_7 (Dense)                (None, 28, 100)      2900        ['input_5[0][0]']                \n",
            "                                                                                                  \n",
            " dense_8 (Dense)                (None, 28, 30)       3030        ['dense_7[0][0]']                \n",
            "                                                                                                  \n",
            " concatenate (Concatenate)      (None, 28, 58)       0           ['input_5[0][0]',                \n",
            "                                                                  'dense_8[0][0]']                \n",
            "                                                                                                  \n",
            " dense_9 (Dense)                (None, 28, 1)        59          ['concatenate[0][0]']            \n",
            "                                                                                                  \n",
            "==================================================================================================\n",
            "Total params: 5,989\n",
            "Trainable params: 5,989\n",
            "Non-trainable params: 0\n",
            "__________________________________________________________________________________________________\n"
          ]
        }
      ]
    },
    {
      "cell_type": "code",
      "source": [
        "plot_model(model)"
      ],
      "metadata": {
        "colab": {
          "base_uri": "https://localhost:8080/",
          "height": 0
        },
        "id": "ZUyc15tN4gdX",
        "outputId": "47153079-ceac-4e98-a884-46e510008cf2"
      },
      "execution_count": 33,
      "outputs": [
        {
          "output_type": "execute_result",
          "data": {
            "image/png": "[encoded data removed]",
            "text/plain": [
              "<IPython.core.display.Image object>"
            ]
          },
          "metadata": {},
          "execution_count": 33
        }
      ]
    },
    {
      "cell_type": "code",
      "source": [
        "input_1 = Input(shape=(10,10), name='Input_1')\n",
        "input_2 = Input(shape=(10, 28), name='Input_2')\n",
        "\n",
        "hidden1 = Dense(100, activation='relu')(input_2)\n",
        "hidden2 = Dense(10, activation='relu')(hidden1)\n",
        "concat = Concatenate()([input_1, hidden2])\n",
        "output = Dense(1, activation='sigmoid', name='output')(concat)\n",
        "\n",
        "model = Model(inputs=[input_1, input_2], outputs=[output])\n",
        "model.summary()"
      ],
      "metadata": {
        "colab": {
          "base_uri": "https://localhost:8080/"
        },
        "id": "7mN76V145i0x",
        "outputId": "11a4ce2b-c15a-490d-e59d-542f0c5b8613"
      },
      "execution_count": 34,
      "outputs": [
        {
          "output_type": "stream",
          "name": "stdout",
          "text": [
            "Model: \"model_2\"\n",
            "__________________________________________________________________________________________________\n",
            " Layer (type)                   Output Shape         Param #     Connected to                     \n",
            "==================================================================================================\n",
            " Input_2 (InputLayer)           [(None, 10, 28)]     0           []                               \n",
            "                                                                                                  \n",
            " dense_10 (Dense)               (None, 10, 100)      2900        ['Input_2[0][0]']                \n",
            "                                                                                                  \n",
            " Input_1 (InputLayer)           [(None, 10, 10)]     0           []                               \n",
            "                                                                                                  \n",
            " dense_11 (Dense)               (None, 10, 10)       1010        ['dense_10[0][0]']               \n",
            "                                                                                                  \n",
            " concatenate_1 (Concatenate)    (None, 10, 20)       0           ['Input_1[0][0]',                \n",
            "                                                                  'dense_11[0][0]']               \n",
            "                                                                                                  \n",
            " output (Dense)                 (None, 10, 1)        21          ['concatenate_1[0][0]']          \n",
            "                                                                                                  \n",
            "==================================================================================================\n",
            "Total params: 3,931\n",
            "Trainable params: 3,931\n",
            "Non-trainable params: 0\n",
            "__________________________________________________________________________________________________\n"
          ]
        }
      ]
    },
    {
      "cell_type": "code",
      "source": [
        "plot_model(model)"
      ],
      "metadata": {
        "colab": {
          "base_uri": "https://localhost:8080/",
          "height": 0
        },
        "id": "5WM6rpzO5ix9",
        "outputId": "8d48a583-28eb-4172-952e-85e4f3d7dad7"
      },
      "execution_count": 35,
      "outputs": [
        {
          "output_type": "execute_result",
          "data": {
            "image/png": "[encoded data removed]",
            "text/plain": [
              "<IPython.core.display.Image object>"
            ]
          },
          "metadata": {},
          "execution_count": 35
        }
      ]
    },
    {
      "cell_type": "code",
      "source": [
        "input = Input(shape=(10,10), name='input_1')\n",
        "hidden1 = Dense(100, activation='relu')(input)\n",
        "hidden2 = Dense(10, activation='relu')(hidden1)\n",
        "output = Dense(1, activation='sigmoid', name='main_output')(hidden2)\n",
        "sub_out = Dense(1, name='sum_output')(hidden2)\n",
        "\n",
        "model = Model(inputs=[input], outputs=[output,sub_out])\n",
        "model.summary()\n"
      ],
      "metadata": {
        "colab": {
          "base_uri": "https://localhost:8080/"
        },
        "id": "v1OnsNpx6q_G",
        "outputId": "1623205b-f83f-4019-a1a8-c48e60e9d18b"
      },
      "execution_count": 36,
      "outputs": [
        {
          "output_type": "stream",
          "name": "stdout",
          "text": [
            "Model: \"model_3\"\n",
            "__________________________________________________________________________________________________\n",
            " Layer (type)                   Output Shape         Param #     Connected to                     \n",
            "==================================================================================================\n",
            " input_1 (InputLayer)           [(None, 10, 10)]     0           []                               \n",
            "                                                                                                  \n",
            " dense_12 (Dense)               (None, 10, 100)      1100        ['input_1[0][0]']                \n",
            "                                                                                                  \n",
            " dense_13 (Dense)               (None, 10, 10)       1010        ['dense_12[0][0]']               \n",
            "                                                                                                  \n",
            " main_output (Dense)            (None, 10, 1)        11          ['dense_13[0][0]']               \n",
            "                                                                                                  \n",
            " sum_output (Dense)             (None, 10, 1)        11          ['dense_13[0][0]']               \n",
            "                                                                                                  \n",
            "==================================================================================================\n",
            "Total params: 2,132\n",
            "Trainable params: 2,132\n",
            "Non-trainable params: 0\n",
            "__________________________________________________________________________________________________\n"
          ]
        }
      ]
    },
    {
      "cell_type": "code",
      "source": [
        "plot_model(model)"
      ],
      "metadata": {
        "colab": {
          "base_uri": "https://localhost:8080/",
          "height": 0
        },
        "id": "os2DqMDB6q8g",
        "outputId": "8c76dadb-18be-4dd4-9f8b-a57aeb5f3ff3"
      },
      "execution_count": 37,
      "outputs": [
        {
          "output_type": "execute_result",
          "data": {
            "image/png": "[encoded data removed]",
            "text/plain": [
              "<IPython.core.display.Image object>"
            ]
          },
          "metadata": {},
          "execution_count": 37
        }
      ]
    },
    {
      "cell_type": "code",
      "source": [
        "input_1 = Input(shape=(10,10), name='input_1')\n",
        "input_2 = Input(shape=(10,28), name='input_2')\n",
        "hidden1 = Dense(100, activation='relu')(input_2)\n",
        "hidden2 = Dense(10, activation='relu')(hidden1)\n",
        "concat = Concatenate()([input_1,hidden2])\n",
        "output = Dense(1, activation='sigmoid', name='main_output')(concat)\n",
        "sub_out = Dense(1, name='sum_output')(hidden2)\n",
        "\n",
        "model = Model(inputs=[input_1,input_2], outputs=[output,sub_out])\n",
        "model.summary()"
      ],
      "metadata": {
        "colab": {
          "base_uri": "https://localhost:8080/"
        },
        "id": "UhfFpwuQ7mUA",
        "outputId": "35c455ed-a907-4ddc-8bdc-0a5b9cedd235"
      },
      "execution_count": 38,
      "outputs": [
        {
          "output_type": "stream",
          "name": "stdout",
          "text": [
            "Model: \"model_4\"\n",
            "__________________________________________________________________________________________________\n",
            " Layer (type)                   Output Shape         Param #     Connected to                     \n",
            "==================================================================================================\n",
            " input_2 (InputLayer)           [(None, 10, 28)]     0           []                               \n",
            "                                                                                                  \n",
            " dense_14 (Dense)               (None, 10, 100)      2900        ['input_2[0][0]']                \n",
            "                                                                                                  \n",
            " input_1 (InputLayer)           [(None, 10, 10)]     0           []                               \n",
            "                                                                                                  \n",
            " dense_15 (Dense)               (None, 10, 10)       1010        ['dense_14[0][0]']               \n",
            "                                                                                                  \n",
            " concatenate_2 (Concatenate)    (None, 10, 20)       0           ['input_1[0][0]',                \n",
            "                                                                  'dense_15[0][0]']               \n",
            "                                                                                                  \n",
            " main_output (Dense)            (None, 10, 1)        21          ['concatenate_2[0][0]']          \n",
            "                                                                                                  \n",
            " sum_output (Dense)             (None, 10, 1)        11          ['dense_15[0][0]']               \n",
            "                                                                                                  \n",
            "==================================================================================================\n",
            "Total params: 3,942\n",
            "Trainable params: 3,942\n",
            "Non-trainable params: 0\n",
            "__________________________________________________________________________________________________\n"
          ]
        }
      ]
    },
    {
      "cell_type": "code",
      "source": [
        "plot_model(model)"
      ],
      "metadata": {
        "colab": {
          "base_uri": "https://localhost:8080/",
          "height": 0
        },
        "id": "Ikf2e_nv7mDh",
        "outputId": "5d894c2f-6859-4139-822c-52b4f3ec0677"
      },
      "execution_count": 39,
      "outputs": [
        {
          "output_type": "execute_result",
          "data": {
            "image/png": "[encoded data removed]",
            "text/plain": [
              "<IPython.core.display.Image object>"
            ]
          },
          "metadata": {},
          "execution_count": 39
        }
      ]
    },
    {
      "cell_type": "markdown",
      "source": [
        "## 서브클래싱(subclassing)\n",
        "- 커스터마이징에 최적화된 방법\n",
        "- model 클래스를 상속받아 Model이 포함하는 기능을 사용할 수 있음\n"
      ],
      "metadata": {
        "id": "5zYLKKQp8-Jj"
      }
    },
    {
      "cell_type": "code",
      "source": [
        "class MyModel(Model):\n",
        "  def __init__(sekf,units=30, activation='relu', **kwargs):\n",
        "    super(MyModel,self).__init__(**kwargs)\n",
        "    self.dense_layer1 = Dense(300, activation=activation)\n",
        "    self.dense_layer1 = Dense(100, activation=activation)\n",
        "    self.dense_layer1 = Dense(units, activation=activation)\n",
        "    self.output_layer = Dense(10, actuvatuib='siftnax')\n",
        "\n",
        "    def call(self, inputs):\n",
        "      x = self.dese_layer1(inputs)\n",
        "      x = self.dense_layer2(x)\n",
        "      x = self.dense_layer3(x)\n",
        "      x = self.output_layer(x)\n",
        "      return x\n"
      ],
      "metadata": {
        "id": "lb9-gz-o9Nzj"
      },
      "execution_count": 40,
      "outputs": []
    },
    {
      "cell_type": "markdown",
      "source": [
        "### 모델 가중치 확인 "
      ],
      "metadata": {
        "id": "s1LVdYl4O3Fl"
      }
    },
    {
      "cell_type": "code",
      "source": [
        "input = Input(shape=(28, 28, 1))\n",
        "x = Flatten(input_shape=(28,28,1))(inputs)\n",
        "x = Dense(300, activation='relu')(x)\n",
        "x = Dense(100, activation='relu')(x)\n",
        "x = Dense(10, activation='softmax')(x)\n",
        "\n",
        "model = Model(inputs=inputs, outputs=x)\n",
        "model.summary()\n"
      ],
      "metadata": {
        "colab": {
          "base_uri": "https://localhost:8080/"
        },
        "id": "qeISvDhKPAqe",
        "outputId": "f22a2224-c7fb-4c22-bb92-5f0ded1d6d5b"
      },
      "execution_count": 41,
      "outputs": [
        {
          "output_type": "stream",
          "name": "stdout",
          "text": [
            "Model: \"model_5\"\n",
            "_________________________________________________________________\n",
            " Layer (type)                Output Shape              Param #   \n",
            "=================================================================\n",
            " input_4 (InputLayer)        [(None, 28, 28, 1)]       0         \n",
            "                                                                 \n",
            " flatten_2 (Flatten)         (None, 784)               0         \n",
            "                                                                 \n",
            " dense_16 (Dense)            (None, 300)               235500    \n",
            "                                                                 \n",
            " dense_17 (Dense)            (None, 100)               30100     \n",
            "                                                                 \n",
            " dense_18 (Dense)            (None, 10)                1010      \n",
            "                                                                 \n",
            "=================================================================\n",
            "Total params: 266,610\n",
            "Trainable params: 266,610\n",
            "Non-trainable params: 0\n",
            "_________________________________________________________________\n"
          ]
        }
      ]
    },
    {
      "cell_type": "code",
      "source": [
        "model.layers"
      ],
      "metadata": {
        "colab": {
          "base_uri": "https://localhost:8080/"
        },
        "id": "LfMuEIa7QSVh",
        "outputId": "72095535-5f16-482d-c72a-ff0901ca47e6"
      },
      "execution_count": 42,
      "outputs": [
        {
          "output_type": "execute_result",
          "data": {
            "text/plain": [
              "[<keras.engine.input_layer.InputLayer at 0x7f2e20371dd0>,\n",
              " <keras.layers.core.flatten.Flatten at 0x7f2e203eaa50>,\n",
              " <keras.layers.core.dense.Dense at 0x7f2e2041ad90>,\n",
              " <keras.layers.core.dense.Dense at 0x7f2e2042ba90>,\n",
              " <keras.layers.core.dense.Dense at 0x7f2e202c0ed0>]"
            ]
          },
          "metadata": {},
          "execution_count": 42
        }
      ]
    },
    {
      "cell_type": "code",
      "source": [
        "hidden_2 = model.layers[2]\n",
        "hidden_2.name"
      ],
      "metadata": {
        "colab": {
          "base_uri": "https://localhost:8080/",
          "height": 36
        },
        "id": "vFBYBiLMRyRL",
        "outputId": "eb2e491f-086b-48d2-81f6-2015be258ae1"
      },
      "execution_count": 43,
      "outputs": [
        {
          "output_type": "execute_result",
          "data": {
            "text/plain": [
              "'dense_16'"
            ],
            "application/vnd.google.colaboratory.intrinsic+json": {
              "type": "string"
            }
          },
          "metadata": {},
          "execution_count": 43
        }
      ]
    },
    {
      "cell_type": "code",
      "source": [
        "model.get_layer('dense_16') is hidden_2"
      ],
      "metadata": {
        "colab": {
          "base_uri": "https://localhost:8080/"
        },
        "id": "am1yzU_yRyL4",
        "outputId": "1368c1c5-01fd-46a0-f22d-930cd4e6c469"
      },
      "execution_count": 44,
      "outputs": [
        {
          "output_type": "execute_result",
          "data": {
            "text/plain": [
              "True"
            ]
          },
          "metadata": {},
          "execution_count": 44
        }
      ]
    },
    {
      "cell_type": "code",
      "source": [
        "weights, biases = hidden_2.get_weights()\n",
        "print(weights.shape)\n",
        "print(biases.shape)"
      ],
      "metadata": {
        "colab": {
          "base_uri": "https://localhost:8080/"
        },
        "id": "w2hFGP4IRyJP",
        "outputId": "37653b2a-c4d1-40b2-de7d-01ad26b45341"
      },
      "execution_count": 45,
      "outputs": [
        {
          "output_type": "stream",
          "name": "stdout",
          "text": [
            "(784, 300)\n",
            "(300,)\n"
          ]
        }
      ]
    },
    {
      "cell_type": "code",
      "source": [
        "print(weights)"
      ],
      "metadata": {
        "colab": {
          "base_uri": "https://localhost:8080/"
        },
        "id": "7U4LseOzSIwq",
        "outputId": "f6a44c41-746f-420e-a293-bf0b5901d40e"
      },
      "execution_count": 46,
      "outputs": [
        {
          "output_type": "stream",
          "name": "stdout",
          "text": [
            "[[-0.06224325 -0.05739664  0.04036121 ... -0.04447959  0.03333256\n",
            "   0.07076494]\n",
            " [-0.04164634  0.03911974 -0.067473   ...  0.02509362  0.03672862\n",
            "  -0.0449294 ]\n",
            " [-0.02239393 -0.03824249  0.04202944 ... -0.0065251   0.01991668\n",
            "   0.0469221 ]\n",
            " ...\n",
            " [-0.07123618 -0.0614275  -0.03000505 ...  0.07412373 -0.0510718\n",
            "  -0.00049695]\n",
            " [-0.07145804  0.00530482 -0.05728649 ... -0.0517413   0.00407804\n",
            "   0.01221973]\n",
            " [-0.00529322 -0.01657478 -0.0474351  ...  0.04838604 -0.04752583\n",
            "  -0.07302801]]\n"
          ]
        }
      ]
    },
    {
      "cell_type": "code",
      "source": [
        "print(biases)"
      ],
      "metadata": {
        "colab": {
          "base_uri": "https://localhost:8080/"
        },
        "id": "1bren3kPSwqX",
        "outputId": "11c133ff-3241-486f-9b80-e0c670b6b708"
      },
      "execution_count": 47,
      "outputs": [
        {
          "output_type": "stream",
          "name": "stdout",
          "text": [
            "[0. 0. 0. 0. 0. 0. 0. 0. 0. 0. 0. 0. 0. 0. 0. 0. 0. 0. 0. 0. 0. 0. 0. 0.\n",
            " 0. 0. 0. 0. 0. 0. 0. 0. 0. 0. 0. 0. 0. 0. 0. 0. 0. 0. 0. 0. 0. 0. 0. 0.\n",
            " 0. 0. 0. 0. 0. 0. 0. 0. 0. 0. 0. 0. 0. 0. 0. 0. 0. 0. 0. 0. 0. 0. 0. 0.\n",
            " 0. 0. 0. 0. 0. 0. 0. 0. 0. 0. 0. 0. 0. 0. 0. 0. 0. 0. 0. 0. 0. 0. 0. 0.\n",
            " 0. 0. 0. 0. 0. 0. 0. 0. 0. 0. 0. 0. 0. 0. 0. 0. 0. 0. 0. 0. 0. 0. 0. 0.\n",
            " 0. 0. 0. 0. 0. 0. 0. 0. 0. 0. 0. 0. 0. 0. 0. 0. 0. 0. 0. 0. 0. 0. 0. 0.\n",
            " 0. 0. 0. 0. 0. 0. 0. 0. 0. 0. 0. 0. 0. 0. 0. 0. 0. 0. 0. 0. 0. 0. 0. 0.\n",
            " 0. 0. 0. 0. 0. 0. 0. 0. 0. 0. 0. 0. 0. 0. 0. 0. 0. 0. 0. 0. 0. 0. 0. 0.\n",
            " 0. 0. 0. 0. 0. 0. 0. 0. 0. 0. 0. 0. 0. 0. 0. 0. 0. 0. 0. 0. 0. 0. 0. 0.\n",
            " 0. 0. 0. 0. 0. 0. 0. 0. 0. 0. 0. 0. 0. 0. 0. 0. 0. 0. 0. 0. 0. 0. 0. 0.\n",
            " 0. 0. 0. 0. 0. 0. 0. 0. 0. 0. 0. 0. 0. 0. 0. 0. 0. 0. 0. 0. 0. 0. 0. 0.\n",
            " 0. 0. 0. 0. 0. 0. 0. 0. 0. 0. 0. 0. 0. 0. 0. 0. 0. 0. 0. 0. 0. 0. 0. 0.\n",
            " 0. 0. 0. 0. 0. 0. 0. 0. 0. 0. 0. 0.]\n"
          ]
        }
      ]
    },
    {
      "cell_type": "markdown",
      "source": [
        "## 모델 컴파일(compile)\n",
        "- 모델을 구성한 후, 사용할 손실 함수(loss function), 옵티마이저(optimizer)를 지정\n"
      ],
      "metadata": {
        "id": "cf0oDWCeafeN"
      }
    },
    {
      "cell_type": "code",
      "source": [
        "model.compile(loss='sparse_categorical_crossentropy', \n",
        "              optimizer='sgd',\n",
        "              metrics=['accuracy'])"
      ],
      "metadata": {
        "id": "z-4J_rbWaeqF"
      },
      "execution_count": 48,
      "outputs": []
    },
    {
      "cell_type": "code",
      "source": [
        ""
      ],
      "metadata": {
        "id": "DrKndnRBRxy4"
      },
      "execution_count": 48,
      "outputs": []
    },
    {
      "cell_type": "markdown",
      "source": [
        "## Module Importing"
      ],
      "metadata": {
        "id": "H0KUe79N1SEK"
      }
    },
    {
      "cell_type": "code",
      "source": [
        "import tensorflow as tf\n",
        "from tensorflow.keras.datasets.mnist import load_data\n",
        "from tensorflow.keras.models import Sequential\n",
        "from tensorflow.keras import models\n",
        "from tensorflow.keras.layers import Dense, Input, Flatten\n",
        "from tensorflow.keras.utils import to_categorical, plot_model\n",
        "\n",
        "from sklearn.model_selection import train_test_split\n",
        "import numpy as np\n",
        "import matplotlib.pyplot as plt\n",
        "plt.style.use('seaborn-white')"
      ],
      "metadata": {
        "id": "E9x6emv71YhX"
      },
      "execution_count": 49,
      "outputs": []
    },
    {
      "cell_type": "markdown",
      "source": [
        "### 데이터 로드 및 전처리"
      ],
      "metadata": {
        "id": "bD1ufV-k2ZVW"
      }
    },
    {
      "cell_type": "code",
      "source": [
        "tf.random.set_seed(111)\n",
        "\n",
        "(x_train_full, y_train_full), (x_test, y_test) = load_data(path='mnist.npz')\n",
        "\n",
        "x_train, x_val, y_train, y_val = train_test_split(x_train_full, y_train_full,\n",
        "                                                  test_size=0.3,\n",
        "                                                  random_state=111)"
      ],
      "metadata": {
        "colab": {
          "base_uri": "https://localhost:8080/"
        },
        "id": "nojODQ722cS1",
        "outputId": "d0255f86-2f6f-448b-ad83-063c140043c5"
      },
      "execution_count": 50,
      "outputs": [
        {
          "output_type": "stream",
          "name": "stdout",
          "text": [
            "Downloading data from https://storage.googleapis.com/tensorflow/tf-keras-datasets/mnist.npz\n",
            "11493376/11490434 [==============================] - 0s 0us/step\n",
            "11501568/11490434 [==============================] - 0s 0us/step\n"
          ]
        }
      ]
    },
    {
      "cell_type": "code",
      "source": [
        "num_x_train = (x_train.shape[0])\n",
        "num_x_val = (x_val.shape[0])\n",
        "num_x_test = (x_test.shape[0])\n",
        "\n",
        "print(\"학습 데이터: {}\\t레이블: {}\".format(x_train_full.shape, y_train_full.shape))\n",
        "print(\"학습 데이터: {}\\t레이블: {}\".format(x_train.shape, y_train.shape))\n",
        "print(\"검증 데이터: {}\\t레이블: {}\".format(x_val.shape, y_val.shape))\n",
        "print(\"테스트 데이터: {}\\t레이블: {}\".format(x_test.shape, y_test.shape))"
      ],
      "metadata": {
        "colab": {
          "base_uri": "https://localhost:8080/"
        },
        "id": "vy3wlywx2_7W",
        "outputId": "b2318bfb-ebdd-4615-9fee-d96299e0ebda"
      },
      "execution_count": 51,
      "outputs": [
        {
          "output_type": "stream",
          "name": "stdout",
          "text": [
            "학습 데이터: (60000, 28, 28)\t레이블: (60000,)\n",
            "학습 데이터: (42000, 28, 28)\t레이블: (42000,)\n",
            "검증 데이터: (18000, 28, 28)\t레이블: (18000,)\n",
            "테스트 데이터: (10000, 28, 28)\t레이블: (10000,)\n"
          ]
        }
      ]
    },
    {
      "cell_type": "code",
      "source": [
        "num_sample = 5\n",
        "random_idxs = np.random.randint(60000, size = num_sample)\n",
        "\n",
        "plt.figure(figsize=(15,3))\n",
        "for i, idx in enumerate(random_idxs):\n",
        "  img = x_train_full[idx, :]\n",
        "  label = y_train_full[idx]\n",
        "\n",
        "  plt.subplot(1,len(random_idxs), i+1)\n",
        "  plt.imshow(img)\n",
        "  plt.title('Index: {}, Label: {}'.format(idx, label))"
      ],
      "metadata": {
        "colab": {
          "base_uri": "https://localhost:8080/",
          "height": 204
        },
        "id": "Ve0wSFMR4BWu",
        "outputId": "73468014-136e-4f7b-bbc7-f5ecc5ae26c5"
      },
      "execution_count": 52,
      "outputs": [
        {
          "output_type": "display_data",
          "data": {
            "text/plain": [
              "<Figure size 1080x216 with 5 Axes>"
            ],
            "image/png": "[encoded data removed]"
          },
          "metadata": {}
        }
      ]
    },
    {
      "cell_type": "code",
      "source": [
        "x_train = x_train / 255.\n",
        "x_val = x_val / 255.\n",
        "x_test = x_test / 255.\n",
        "\n",
        "y_train = to_categorical(y_train)\n",
        "y_val = to_categorical(y_val)\n",
        "y_test = to_categorical(y_test)"
      ],
      "metadata": {
        "id": "_RHeyppd4BTb"
      },
      "execution_count": 53,
      "outputs": []
    },
    {
      "cell_type": "code",
      "source": [
        "model = Sequential([Input(shape=(28,28), name='input'),\n",
        "                    Flatten(input_shape=[28, 28], name='flatten'),\n",
        "                    Dense(100,activation='relu', name='dense1'),\n",
        "                    Dense(64,activation='relu', name='dense2'),\n",
        "                    Dense(32,activation='relu', name='dense3'),\n",
        "                    Dense(10,activation='softmax', name='output')])\n",
        "model.summary()"
      ],
      "metadata": {
        "colab": {
          "base_uri": "https://localhost:8080/"
        },
        "id": "KbiRisFl4BBs",
        "outputId": "364bdae6-52e2-40eb-85f0-01525a5d9410"
      },
      "execution_count": 54,
      "outputs": [
        {
          "output_type": "stream",
          "name": "stdout",
          "text": [
            "Model: \"sequential_2\"\n",
            "_________________________________________________________________\n",
            " Layer (type)                Output Shape              Param #   \n",
            "=================================================================\n",
            " flatten (Flatten)           (None, 784)               0         \n",
            "                                                                 \n",
            " dense1 (Dense)              (None, 100)               78500     \n",
            "                                                                 \n",
            " dense2 (Dense)              (None, 64)                6464      \n",
            "                                                                 \n",
            " dense3 (Dense)              (None, 32)                2080      \n",
            "                                                                 \n",
            " output (Dense)              (None, 10)                330       \n",
            "                                                                 \n",
            "=================================================================\n",
            "Total params: 87,374\n",
            "Trainable params: 87,374\n",
            "Non-trainable params: 0\n",
            "_________________________________________________________________\n"
          ]
        }
      ]
    },
    {
      "cell_type": "code",
      "source": [
        "plot_model(model)"
      ],
      "metadata": {
        "colab": {
          "base_uri": "https://localhost:8080/",
          "height": 564
        },
        "id": "BRMh3Tgf63HW",
        "outputId": "9f9591ec-7513-41b2-94ef-e27dadc92dc1"
      },
      "execution_count": 55,
      "outputs": [
        {
          "output_type": "execute_result",
          "data": {
            "image/png": "[encoded data removed]",
            "text/plain": [
              "<IPython.core.display.Image object>"
            ]
          },
          "metadata": {},
          "execution_count": 55
        }
      ]
    },
    {
      "cell_type": "code",
      "source": [
        "plot_model(model, show_shapes=True)"
      ],
      "metadata": {
        "colab": {
          "base_uri": "https://localhost:8080/",
          "height": 644
        },
        "id": "8C0hi-_l63FA",
        "outputId": "99518290-5902-4d86-c182-a98bcebffd1c"
      },
      "execution_count": 56,
      "outputs": [
        {
          "output_type": "execute_result",
          "data": {
            "image/png": "[encoded data removed]",
            "text/plain": [
              "<IPython.core.display.Image object>"
            ]
          },
          "metadata": {},
          "execution_count": 56
        }
      ]
    },
    {
      "cell_type": "markdown",
      "source": [
        "### 모델 컴파일 및 학습"
      ],
      "metadata": {
        "id": "4I6fzHum7OUU"
      }
    },
    {
      "cell_type": "code",
      "source": [
        "model.compile(loss='categorical_crossentropy',\n",
        "              optimizer='sgd',\n",
        "              metrics=['accuracy'])"
      ],
      "metadata": {
        "id": "xjdw1YcW7Nim"
      },
      "execution_count": 57,
      "outputs": []
    },
    {
      "cell_type": "code",
      "source": [
        "history = model.fit(x_train,y_train,\n",
        "                    epochs=50,\n",
        "                    batch_size=128,\n",
        "                    validation_data=(x_val,y_val))"
      ],
      "metadata": {
        "colab": {
          "base_uri": "https://localhost:8080/"
        },
        "id": "xNhI1d-o7jQq",
        "outputId": "b113d55d-d78f-4362-9a0d-cd84b85d1dec"
      },
      "execution_count": 58,
      "outputs": [
        {
          "output_type": "stream",
          "name": "stdout",
          "text": [
            "Epoch 1/50\n",
            "329/329 [==============================] - 4s 4ms/step - loss: 1.6822 - accuracy: 0.5096 - val_loss: 0.9621 - val_accuracy: 0.7749\n",
            "Epoch 2/50\n",
            "329/329 [==============================] - 1s 4ms/step - loss: 0.6800 - accuracy: 0.8292 - val_loss: 0.5311 - val_accuracy: 0.8518\n",
            "Epoch 3/50\n",
            "329/329 [==============================] - 1s 4ms/step - loss: 0.4660 - accuracy: 0.8713 - val_loss: 0.4191 - val_accuracy: 0.8793\n",
            "Epoch 4/50\n",
            "329/329 [==============================] - 1s 4ms/step - loss: 0.3920 - accuracy: 0.8898 - val_loss: 0.3733 - val_accuracy: 0.8909\n",
            "Epoch 5/50\n",
            "329/329 [==============================] - 1s 4ms/step - loss: 0.3499 - accuracy: 0.9004 - val_loss: 0.3320 - val_accuracy: 0.9044\n",
            "Epoch 6/50\n",
            "329/329 [==============================] - 1s 4ms/step - loss: 0.3205 - accuracy: 0.9090 - val_loss: 0.3188 - val_accuracy: 0.9061\n",
            "Epoch 7/50\n",
            "329/329 [==============================] - 1s 4ms/step - loss: 0.2977 - accuracy: 0.9149 - val_loss: 0.3171 - val_accuracy: 0.9061\n",
            "Epoch 8/50\n",
            "329/329 [==============================] - 1s 4ms/step - loss: 0.2790 - accuracy: 0.9193 - val_loss: 0.2721 - val_accuracy: 0.9225\n",
            "Epoch 9/50\n",
            "329/329 [==============================] - 1s 4ms/step - loss: 0.2631 - accuracy: 0.9248 - val_loss: 0.2681 - val_accuracy: 0.9222\n",
            "Epoch 10/50\n",
            "329/329 [==============================] - 1s 4ms/step - loss: 0.2495 - accuracy: 0.9289 - val_loss: 0.2511 - val_accuracy: 0.9281\n",
            "Epoch 11/50\n",
            "329/329 [==============================] - 1s 4ms/step - loss: 0.2375 - accuracy: 0.9322 - val_loss: 0.2383 - val_accuracy: 0.9321\n",
            "Epoch 12/50\n",
            "329/329 [==============================] - 1s 4ms/step - loss: 0.2269 - accuracy: 0.9354 - val_loss: 0.2499 - val_accuracy: 0.9254\n",
            "Epoch 13/50\n",
            "329/329 [==============================] - 1s 4ms/step - loss: 0.2171 - accuracy: 0.9376 - val_loss: 0.2211 - val_accuracy: 0.9369\n",
            "Epoch 14/50\n",
            "329/329 [==============================] - 1s 4ms/step - loss: 0.2082 - accuracy: 0.9417 - val_loss: 0.2158 - val_accuracy: 0.9377\n",
            "Epoch 15/50\n",
            "329/329 [==============================] - 2s 5ms/step - loss: 0.1996 - accuracy: 0.9430 - val_loss: 0.2147 - val_accuracy: 0.9372\n",
            "Epoch 16/50\n",
            "329/329 [==============================] - 2s 6ms/step - loss: 0.1922 - accuracy: 0.9459 - val_loss: 0.2098 - val_accuracy: 0.9396\n",
            "Epoch 17/50\n",
            "329/329 [==============================] - 1s 4ms/step - loss: 0.1848 - accuracy: 0.9469 - val_loss: 0.1979 - val_accuracy: 0.9425\n",
            "Epoch 18/50\n",
            "329/329 [==============================] - 1s 4ms/step - loss: 0.1778 - accuracy: 0.9495 - val_loss: 0.2051 - val_accuracy: 0.9402\n",
            "Epoch 19/50\n",
            "329/329 [==============================] - 1s 4ms/step - loss: 0.1721 - accuracy: 0.9515 - val_loss: 0.1869 - val_accuracy: 0.9452\n",
            "Epoch 20/50\n",
            "329/329 [==============================] - 1s 4ms/step - loss: 0.1660 - accuracy: 0.9526 - val_loss: 0.2269 - val_accuracy: 0.9318\n",
            "Epoch 21/50\n",
            "329/329 [==============================] - 1s 4ms/step - loss: 0.1609 - accuracy: 0.9552 - val_loss: 0.1757 - val_accuracy: 0.9478\n",
            "Epoch 22/50\n",
            "329/329 [==============================] - 1s 4ms/step - loss: 0.1553 - accuracy: 0.9560 - val_loss: 0.1822 - val_accuracy: 0.9459\n",
            "Epoch 23/50\n",
            "329/329 [==============================] - 1s 4ms/step - loss: 0.1506 - accuracy: 0.9568 - val_loss: 0.1662 - val_accuracy: 0.9519\n",
            "Epoch 24/50\n",
            "329/329 [==============================] - 1s 4ms/step - loss: 0.1456 - accuracy: 0.9586 - val_loss: 0.1682 - val_accuracy: 0.9496\n",
            "Epoch 25/50\n",
            "329/329 [==============================] - 1s 4ms/step - loss: 0.1414 - accuracy: 0.9602 - val_loss: 0.1681 - val_accuracy: 0.9506\n",
            "Epoch 26/50\n",
            "329/329 [==============================] - 1s 4ms/step - loss: 0.1370 - accuracy: 0.9612 - val_loss: 0.1573 - val_accuracy: 0.9536\n",
            "Epoch 27/50\n",
            "329/329 [==============================] - 1s 4ms/step - loss: 0.1328 - accuracy: 0.9626 - val_loss: 0.1525 - val_accuracy: 0.9556\n",
            "Epoch 28/50\n",
            "329/329 [==============================] - 1s 4ms/step - loss: 0.1292 - accuracy: 0.9634 - val_loss: 0.1532 - val_accuracy: 0.9549\n",
            "Epoch 29/50\n",
            "329/329 [==============================] - 1s 4ms/step - loss: 0.1256 - accuracy: 0.9645 - val_loss: 0.1474 - val_accuracy: 0.9567\n",
            "Epoch 30/50\n",
            "329/329 [==============================] - 1s 4ms/step - loss: 0.1222 - accuracy: 0.9654 - val_loss: 0.1455 - val_accuracy: 0.9566\n",
            "Epoch 31/50\n",
            "329/329 [==============================] - 1s 4ms/step - loss: 0.1188 - accuracy: 0.9664 - val_loss: 0.1431 - val_accuracy: 0.9576\n",
            "Epoch 32/50\n",
            "329/329 [==============================] - 1s 4ms/step - loss: 0.1159 - accuracy: 0.9674 - val_loss: 0.1437 - val_accuracy: 0.9566\n",
            "Epoch 33/50\n",
            "329/329 [==============================] - 1s 4ms/step - loss: 0.1127 - accuracy: 0.9681 - val_loss: 0.1404 - val_accuracy: 0.9580\n",
            "Epoch 34/50\n",
            "329/329 [==============================] - 1s 4ms/step - loss: 0.1096 - accuracy: 0.9687 - val_loss: 0.1415 - val_accuracy: 0.9569\n",
            "Epoch 35/50\n",
            "329/329 [==============================] - 1s 4ms/step - loss: 0.1068 - accuracy: 0.9697 - val_loss: 0.1376 - val_accuracy: 0.9581\n",
            "Epoch 36/50\n",
            "329/329 [==============================] - 1s 4ms/step - loss: 0.1042 - accuracy: 0.9703 - val_loss: 0.1362 - val_accuracy: 0.9579\n",
            "Epoch 37/50\n",
            "329/329 [==============================] - 1s 4ms/step - loss: 0.1015 - accuracy: 0.9712 - val_loss: 0.1309 - val_accuracy: 0.9596\n",
            "Epoch 38/50\n",
            "329/329 [==============================] - 1s 4ms/step - loss: 0.0993 - accuracy: 0.9717 - val_loss: 0.1279 - val_accuracy: 0.9614\n",
            "Epoch 39/50\n",
            "329/329 [==============================] - 1s 4ms/step - loss: 0.0968 - accuracy: 0.9723 - val_loss: 0.1315 - val_accuracy: 0.9596\n",
            "Epoch 40/50\n",
            "329/329 [==============================] - 1s 4ms/step - loss: 0.0947 - accuracy: 0.9727 - val_loss: 0.1294 - val_accuracy: 0.9613\n",
            "Epoch 41/50\n",
            "329/329 [==============================] - 1s 4ms/step - loss: 0.0926 - accuracy: 0.9733 - val_loss: 0.1246 - val_accuracy: 0.9623\n",
            "Epoch 42/50\n",
            "329/329 [==============================] - 1s 4ms/step - loss: 0.0902 - accuracy: 0.9745 - val_loss: 0.1427 - val_accuracy: 0.9561\n",
            "Epoch 43/50\n",
            "329/329 [==============================] - 1s 4ms/step - loss: 0.0879 - accuracy: 0.9747 - val_loss: 0.1220 - val_accuracy: 0.9629\n",
            "Epoch 44/50\n",
            "329/329 [==============================] - 1s 4ms/step - loss: 0.0859 - accuracy: 0.9754 - val_loss: 0.1199 - val_accuracy: 0.9638\n",
            "Epoch 45/50\n",
            "329/329 [==============================] - 1s 4ms/step - loss: 0.0841 - accuracy: 0.9760 - val_loss: 0.1179 - val_accuracy: 0.9640\n",
            "Epoch 46/50\n",
            "329/329 [==============================] - 1s 4ms/step - loss: 0.0819 - accuracy: 0.9770 - val_loss: 0.1188 - val_accuracy: 0.9641\n",
            "Epoch 47/50\n",
            "329/329 [==============================] - 1s 4ms/step - loss: 0.0804 - accuracy: 0.9770 - val_loss: 0.1196 - val_accuracy: 0.9633\n",
            "Epoch 48/50\n",
            "329/329 [==============================] - 1s 4ms/step - loss: 0.0784 - accuracy: 0.9772 - val_loss: 0.1173 - val_accuracy: 0.9643\n",
            "Epoch 49/50\n",
            "329/329 [==============================] - 1s 4ms/step - loss: 0.0768 - accuracy: 0.9782 - val_loss: 0.1163 - val_accuracy: 0.9646\n",
            "Epoch 50/50\n",
            "329/329 [==============================] - 1s 4ms/step - loss: 0.0749 - accuracy: 0.9786 - val_loss: 0.1200 - val_accuracy: 0.9636\n"
          ]
        }
      ]
    },
    {
      "cell_type": "code",
      "source": [
        "history.history.keys()"
      ],
      "metadata": {
        "colab": {
          "base_uri": "https://localhost:8080/"
        },
        "id": "BY6dr8Il8ugR",
        "outputId": "51939aab-6132-4c21-d0e0-b54b10806f63"
      },
      "execution_count": 59,
      "outputs": [
        {
          "output_type": "execute_result",
          "data": {
            "text/plain": [
              "dict_keys(['loss', 'accuracy', 'val_loss', 'val_accuracy'])"
            ]
          },
          "metadata": {},
          "execution_count": 59
        }
      ]
    },
    {
      "cell_type": "code",
      "source": [
        "history_dict = history.history\n",
        "\n",
        "loss = history_dict['loss']\n",
        "val_loss = history_dict['val_loss']\n",
        "\n",
        "epochs = range(1, len(loss) + 1)\n",
        "fig = plt.figure(figsize=(12, 5))\n",
        "\n",
        "ax1 = fig.add_subplot(1, 2, 1)\n",
        "ax1.plot(epochs, loss, color='blue', label='train_loss')\n",
        "ax1.plot(epochs, val_loss, color='red', label='val_loss')\n",
        "ax1.set_title('Train and Validation Loss')\n",
        "ax1.set_xlabel('Epochs')\n",
        "ax1.set_ylabel('Loss')\n",
        "ax1.grid()\n",
        "ax1.legend()\n",
        "\n",
        "accuracy = history_dict['accuracy']\n",
        "val_accuracy = history_dict['val_accuracy']\n",
        "\n",
        "ax2 = fig.add_subplot(1, 2, 2)\n",
        "ax2.plot(epochs, loss, color='blue', label='train_accuracy')\n",
        "ax2.plot(epochs, val_loss, color='red', label='val_accuracy')\n",
        "ax2.set_title('Train and Validation Accuracy')\n",
        "ax2.set_xlabel('Epochs')\n",
        "ax2.set_ylabel('Accuracy')\n",
        "ax2.grid()\n",
        "ax2.legend()"
      ],
      "metadata": {
        "colab": {
          "base_uri": "https://localhost:8080/",
          "height": 366
        },
        "id": "h8Eg-oR-87GE",
        "outputId": "615f3003-ddf9-476c-d793-e30ee188899d"
      },
      "execution_count": 60,
      "outputs": [
        {
          "output_type": "execute_result",
          "data": {
            "text/plain": [
              "<matplotlib.legend.Legend at 0x7f2e203eea90>"
            ]
          },
          "metadata": {},
          "execution_count": 60
        },
        {
          "output_type": "display_data",
          "data": {
            "text/plain": [
              "<Figure size 864x360 with 2 Axes>"
            ],
            "image/png": "[encoded data removed]"
          },
          "metadata": {}
        }
      ]
    },
    {
      "cell_type": "code",
      "source": [
        "model.evaluate(x_test, y_test)"
      ],
      "metadata": {
        "colab": {
          "base_uri": "https://localhost:8080/"
        },
        "id": "CP7qGq10_-4N",
        "outputId": "78ed3e84-694b-4edb-a6ba-438f4a502b35"
      },
      "execution_count": 61,
      "outputs": [
        {
          "output_type": "stream",
          "name": "stdout",
          "text": [
            "313/313 [==============================] - 1s 2ms/step - loss: 0.1218 - accuracy: 0.9643\n"
          ]
        },
        {
          "output_type": "execute_result",
          "data": {
            "text/plain": [
              "[0.12176108360290527, 0.9642999768257141]"
            ]
          },
          "metadata": {},
          "execution_count": 61
        }
      ]
    },
    {
      "cell_type": "code",
      "source": [
        "pred_ys = model.predict(x_test)\n",
        "print(pred_ys.shape)\n",
        "\n",
        "np.set_printoptions(precision=7)\n",
        "print(pred_ys[0])"
      ],
      "metadata": {
        "colab": {
          "base_uri": "https://localhost:8080/"
        },
        "id": "qlunE8mrADWM",
        "outputId": "383fb5ce-32fd-49e1-df99-1af50d60ffd7"
      },
      "execution_count": 62,
      "outputs": [
        {
          "output_type": "stream",
          "name": "stdout",
          "text": [
            "(10000, 10)\n",
            "[7.4084191e-08 5.5779154e-08 1.4111157e-06 4.4282500e-05 2.2206792e-09\n",
            " 3.3421213e-07 2.4208614e-11 9.9995279e-01 1.1193476e-07 1.0042791e-06]\n"
          ]
        }
      ]
    },
    {
      "cell_type": "code",
      "source": [
        "arg_pred_y = np.argmax(pred_ys, axis=1)\n",
        "\n",
        "plt.imshow(x_test[0])\n",
        "plt.title('Predicted label:{}'.format(arg_pred_y[0]))\n",
        "plt.show()\n"
      ],
      "metadata": {
        "colab": {
          "base_uri": "https://localhost:8080/",
          "height": 277
        },
        "id": "QKfXoyNvAPkl",
        "outputId": "2d958e23-24f1-4475-d807-954aa96fe05e"
      },
      "execution_count": 63,
      "outputs": [
        {
          "output_type": "display_data",
          "data": {
            "text/plain": [
              "<Figure size 432x288 with 1 Axes>"
            ],
            "image/png": "[encoded data removed]"
          },
          "metadata": {}
        }
      ]
    },
    {
      "cell_type": "code",
      "source": [
        "from sklearn.metrics import classification_report, confusion_matrix  \n",
        "import seaborn as sns\n",
        "sns.set(style='white')\n",
        "\n",
        "plt.figure(figsize=(8,8))\n",
        "cm = confusion_matrix(np.argmax(y_test, axis=1), np.argmax(pred_ys, axis=-1))\n",
        "sns.heatmap(cm, annot=True, fmt='d', cmap='Blues')\n",
        "plt.xlabel('Predicted Label')\n",
        "plt.ylabel('True Label')\n",
        "plt.show()"
      ],
      "metadata": {
        "colab": {
          "base_uri": "https://localhost:8080/",
          "height": 502
        },
        "id": "geV4hbwmZiFw",
        "outputId": "96b757c9-11c8-4a77-9c24-da103c60b715"
      },
      "execution_count": 64,
      "outputs": [
        {
          "output_type": "display_data",
          "data": {
            "text/plain": [
              "<Figure size 576x576 with 2 Axes>"
            ],
            "image/png": "[encoded data removed]"
          },
          "metadata": {}
        }
      ]
    },
    {
      "cell_type": "code",
      "source": [
        "print(classification_report(np.argmax(y_test, axis=-1), np.argmax(pred_ys, axis=-1)))"
      ],
      "metadata": {
        "colab": {
          "base_uri": "https://localhost:8080/"
        },
        "id": "jVhjSLIYZh1A",
        "outputId": "4f406251-7338-4674-cd8b-d859417b7717"
      },
      "execution_count": 65,
      "outputs": [
        {
          "output_type": "stream",
          "name": "stdout",
          "text": [
            "              precision    recall  f1-score   support\n",
            "\n",
            "           0       0.97      0.99      0.98       980\n",
            "           1       0.98      0.99      0.99      1135\n",
            "           2       0.98      0.95      0.96      1032\n",
            "           3       0.93      0.98      0.95      1010\n",
            "           4       0.96      0.97      0.97       982\n",
            "           5       0.99      0.92      0.95       892\n",
            "           6       0.96      0.97      0.97       958\n",
            "           7       0.95      0.98      0.96      1028\n",
            "           8       0.96      0.95      0.95       974\n",
            "           9       0.98      0.93      0.95      1009\n",
            "\n",
            "    accuracy                           0.96     10000\n",
            "   macro avg       0.96      0.96      0.96     10000\n",
            "weighted avg       0.96      0.96      0.96     10000\n",
            "\n"
          ]
        }
      ]
    },
    {
      "cell_type": "markdown",
      "source": [
        "## Model 저장과 복원\n",
        "- save()\n",
        "- load_model()\n",
        "- 서브클래싱 방식으로는 할 수 없다\n"
      ],
      "metadata": {
        "id": "5-2zW17KbWn1"
      }
    }
  ]
}